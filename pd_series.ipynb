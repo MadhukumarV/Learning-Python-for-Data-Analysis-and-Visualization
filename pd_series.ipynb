{
 "cells": [
  {
   "cell_type": "code",
   "execution_count": 2,
   "id": "604f509b",
   "metadata": {},
   "outputs": [],
   "source": [
    "import numpy as np\n",
    "import pandas as pd \n",
    "from pandas import Series,DataFrame"
   ]
  },
  {
   "cell_type": "code",
   "execution_count": 3,
   "id": "11d0b6fc",
   "metadata": {},
   "outputs": [],
   "source": [
    "obj =Series([4,8,12,16])"
   ]
  },
  {
   "cell_type": "code",
   "execution_count": 4,
   "id": "f99f0793",
   "metadata": {},
   "outputs": [
    {
     "data": {
      "text/plain": [
       "0     4\n",
       "1     8\n",
       "2    12\n",
       "3    16\n",
       "dtype: int64"
      ]
     },
     "execution_count": 4,
     "metadata": {},
     "output_type": "execute_result"
    }
   ],
   "source": [
    "obj"
   ]
  },
  {
   "cell_type": "code",
   "execution_count": 5,
   "id": "6b36501d",
   "metadata": {},
   "outputs": [
    {
     "data": {
      "text/plain": [
       "array([ 4,  8, 12, 16], dtype=int64)"
      ]
     },
     "execution_count": 5,
     "metadata": {},
     "output_type": "execute_result"
    }
   ],
   "source": [
    "obj.values\n"
   ]
  },
  {
   "cell_type": "code",
   "execution_count": 6,
   "id": "2c6014fd",
   "metadata": {},
   "outputs": [
    {
     "data": {
      "text/plain": [
       "RangeIndex(start=0, stop=4, step=1)"
      ]
     },
     "execution_count": 6,
     "metadata": {},
     "output_type": "execute_result"
    }
   ],
   "source": [
    "obj.index"
   ]
  },
  {
   "cell_type": "code",
   "execution_count": 7,
   "id": "75f2eff2",
   "metadata": {},
   "outputs": [],
   "source": [
    "ww2_cas = Series([8700000,4300000,3000000,2100000,400000],index=['USSR','GERMANY','CHINA','JAPAN','USA'])"
   ]
  },
  {
   "cell_type": "code",
   "execution_count": 8,
   "id": "955b9128",
   "metadata": {},
   "outputs": [
    {
     "data": {
      "text/plain": [
       "400000"
      ]
     },
     "execution_count": 8,
     "metadata": {},
     "output_type": "execute_result"
    }
   ],
   "source": [
    "ww2_cas['USA']"
   ]
  },
  {
   "cell_type": "code",
   "execution_count": 9,
   "id": "0a72695d",
   "metadata": {},
   "outputs": [
    {
     "data": {
      "text/plain": [
       "USSR       8700000\n",
       "GERMANY    4300000\n",
       "dtype: int64"
      ]
     },
     "execution_count": 9,
     "metadata": {},
     "output_type": "execute_result"
    }
   ],
   "source": [
    "#check condition \n",
    "ww2_cas[ww2_cas>4000000]"
   ]
  },
  {
   "cell_type": "code",
   "execution_count": 10,
   "id": "a3463b52",
   "metadata": {},
   "outputs": [
    {
     "data": {
      "text/plain": [
       "True"
      ]
     },
     "execution_count": 10,
     "metadata": {},
     "output_type": "execute_result"
    }
   ],
   "source": [
    "'USSR'in ww2_cas"
   ]
  },
  {
   "cell_type": "code",
   "execution_count": 13,
   "id": "05c4923c",
   "metadata": {},
   "outputs": [
    {
     "data": {
      "text/plain": [
       "{'USSR': 8700000,\n",
       " 'GERMANY': 4300000,\n",
       " 'CHINA': 3000000,\n",
       " 'JAPAN': 2100000,\n",
       " 'USA': 400000}"
      ]
     },
     "execution_count": 13,
     "metadata": {},
     "output_type": "execute_result"
    }
   ],
   "source": [
    "ww2_dict = ww2_cas.to_dict()\n",
    "ww2_dict"
   ]
  },
  {
   "cell_type": "code",
   "execution_count": 14,
   "id": "be0dcc56",
   "metadata": {},
   "outputs": [
    {
     "data": {
      "text/plain": [
       "USSR       8700000\n",
       "GERMANY    4300000\n",
       "CHINA      3000000\n",
       "JAPAN      2100000\n",
       "USA         400000\n",
       "dtype: int64"
      ]
     },
     "execution_count": 14,
     "metadata": {},
     "output_type": "execute_result"
    }
   ],
   "source": [
    "ww2_Series = Series(ww2_dict)\n",
    "ww2_Series"
   ]
  },
  {
   "cell_type": "code",
   "execution_count": 15,
   "id": "159ce9f4",
   "metadata": {},
   "outputs": [],
   "source": [
    "countries = ['USSR','GERMANY','CHINA','JAPAN','USA','INDIA']"
   ]
  },
  {
   "cell_type": "code",
   "execution_count": 16,
   "id": "12df0f3f",
   "metadata": {},
   "outputs": [
    {
     "data": {
      "text/plain": [
       "USSR       8700000.0\n",
       "GERMANY    4300000.0\n",
       "CHINA      3000000.0\n",
       "JAPAN      2100000.0\n",
       "USA         400000.0\n",
       "INDIA            NaN\n",
       "dtype: float64"
      ]
     },
     "execution_count": 16,
     "metadata": {},
     "output_type": "execute_result"
    }
   ],
   "source": [
    "obj2 = Series(ww2_dict,index=countries)\n",
    "obj2"
   ]
  },
  {
   "cell_type": "code",
   "execution_count": 17,
   "id": "131c7d1c",
   "metadata": {},
   "outputs": [
    {
     "data": {
      "text/plain": [
       "USSR       False\n",
       "GERMANY    False\n",
       "CHINA      False\n",
       "JAPAN      False\n",
       "USA        False\n",
       "INDIA       True\n",
       "dtype: bool"
      ]
     },
     "execution_count": 17,
     "metadata": {},
     "output_type": "execute_result"
    }
   ],
   "source": [
    "pd.isnull(obj2)"
   ]
  },
  {
   "cell_type": "code",
   "execution_count": 18,
   "id": "06479efb",
   "metadata": {},
   "outputs": [
    {
     "data": {
      "text/plain": [
       "USSR       False\n",
       "GERMANY    False\n",
       "CHINA      False\n",
       "JAPAN      False\n",
       "USA        False\n",
       "INDIA       True\n",
       "dtype: bool"
      ]
     },
     "execution_count": 18,
     "metadata": {},
     "output_type": "execute_result"
    }
   ],
   "source": [
    "pd.isna(obj2)"
   ]
  },
  {
   "cell_type": "code",
   "execution_count": 19,
   "id": "8187ab9d",
   "metadata": {},
   "outputs": [
    {
     "data": {
      "text/plain": [
       "USSR       False\n",
       "GERMANY    False\n",
       "CHINA      False\n",
       "JAPAN      False\n",
       "USA        False\n",
       "INDIA       True\n",
       "dtype: bool"
      ]
     },
     "execution_count": 19,
     "metadata": {},
     "output_type": "execute_result"
    }
   ],
   "source": [
    "pd.isnull(obj2)"
   ]
  },
  {
   "cell_type": "code",
   "execution_count": 20,
   "id": "71e05529",
   "metadata": {},
   "outputs": [
    {
     "data": {
      "text/plain": [
       "USSR        True\n",
       "GERMANY     True\n",
       "CHINA       True\n",
       "JAPAN       True\n",
       "USA         True\n",
       "INDIA      False\n",
       "dtype: bool"
      ]
     },
     "execution_count": 20,
     "metadata": {},
     "output_type": "execute_result"
    }
   ],
   "source": [
    "pd.notnull(obj2)"
   ]
  },
  {
   "cell_type": "code",
   "execution_count": 21,
   "id": "0e4bebbc",
   "metadata": {},
   "outputs": [
    {
     "data": {
      "text/plain": [
       "USSR       8700000.0\n",
       "GERMANY    4300000.0\n",
       "CHINA      3000000.0\n",
       "JAPAN      2100000.0\n",
       "USA         400000.0\n",
       "INDIA            NaN\n",
       "dtype: float64"
      ]
     },
     "execution_count": 21,
     "metadata": {},
     "output_type": "execute_result"
    }
   ],
   "source": [
    "obj2"
   ]
  },
  {
   "cell_type": "code",
   "execution_count": 22,
   "id": "4c0cff1e",
   "metadata": {},
   "outputs": [
    {
     "data": {
      "text/plain": [
       "CHINA       6000000.0\n",
       "GERMANY     8600000.0\n",
       "INDIA             NaN\n",
       "JAPAN       4200000.0\n",
       "USA          800000.0\n",
       "USSR       17400000.0\n",
       "dtype: float64"
      ]
     },
     "execution_count": 22,
     "metadata": {},
     "output_type": "execute_result"
    }
   ],
   "source": [
    "ww2_Series+obj2"
   ]
  },
  {
   "cell_type": "code",
   "execution_count": 23,
   "id": "196645a7",
   "metadata": {},
   "outputs": [],
   "source": [
    "obj2.Title=\"world war casualities\""
   ]
  },
  {
   "cell_type": "code",
   "execution_count": 24,
   "id": "aaffe6f5",
   "metadata": {},
   "outputs": [
    {
     "data": {
      "text/plain": [
       "USSR       8700000.0\n",
       "GERMANY    4300000.0\n",
       "CHINA      3000000.0\n",
       "JAPAN      2100000.0\n",
       "USA         400000.0\n",
       "INDIA            NaN\n",
       "dtype: float64"
      ]
     },
     "execution_count": 24,
     "metadata": {},
     "output_type": "execute_result"
    }
   ],
   "source": [
    "obj2"
   ]
  },
  {
   "cell_type": "code",
   "execution_count": 25,
   "id": "47ec4769",
   "metadata": {},
   "outputs": [
    {
     "data": {
      "text/plain": [
       "USSR       8700000.0\n",
       "GERMANY    4300000.0\n",
       "CHINA      3000000.0\n",
       "JAPAN      2100000.0\n",
       "USA         400000.0\n",
       "INDIA            NaN\n",
       "Name: world war 2 casualities, dtype: float64"
      ]
     },
     "execution_count": 25,
     "metadata": {},
     "output_type": "execute_result"
    }
   ],
   "source": [
    "obj2.name='world war 2 casualities'\n",
    "obj2"
   ]
  },
  {
   "cell_type": "code",
   "execution_count": 26,
   "id": "6d4c7e1b",
   "metadata": {},
   "outputs": [],
   "source": [
    "obj2.index.name='Countries'"
   ]
  },
  {
   "cell_type": "code",
   "execution_count": 27,
   "id": "46d5e54e",
   "metadata": {},
   "outputs": [
    {
     "data": {
      "text/plain": [
       "Countries\n",
       "USSR       8700000.0\n",
       "GERMANY    4300000.0\n",
       "CHINA      3000000.0\n",
       "JAPAN      2100000.0\n",
       "USA         400000.0\n",
       "INDIA            NaN\n",
       "Name: world war 2 casualities, dtype: float64"
      ]
     },
     "execution_count": 27,
     "metadata": {},
     "output_type": "execute_result"
    }
   ],
   "source": [
    "obj2"
   ]
  },
  {
   "cell_type": "code",
   "execution_count": null,
   "id": "b3ca428e",
   "metadata": {},
   "outputs": [],
   "source": []
  }
 ],
 "metadata": {
  "kernelspec": {
   "display_name": "Python 3 (ipykernel)",
   "language": "python",
   "name": "python3"
  },
  "language_info": {
   "codemirror_mode": {
    "name": "ipython",
    "version": 3
   },
   "file_extension": ".py",
   "mimetype": "text/x-python",
   "name": "python",
   "nbconvert_exporter": "python",
   "pygments_lexer": "ipython3",
   "version": "3.10.2"
  }
 },
 "nbformat": 4,
 "nbformat_minor": 5
}
